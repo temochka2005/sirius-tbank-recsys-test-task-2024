{
 "cells": [
  {
   "cell_type": "markdown",
   "metadata": {},
   "source": [
    "# Библиотеки"
   ]
  },
  {
   "cell_type": "code",
   "execution_count": 119,
   "metadata": {},
   "outputs": [],
   "source": [
    "from abc import ABC, abstractmethod\n",
    "from typing import Dict, List\n",
    "\n",
    "import matplotlib.pyplot as plt\n",
    "import numpy as np\n",
    "import pandas as pd\n",
    "import pickle\n",
    "from implicit.als import AlternatingLeastSquares\n",
    "from implicit.evaluation import precision_at_k, mean_average_precision_at_k\n",
    "from scipy.sparse import csr_matrix\n",
    "from sklearn.preprocessing import LabelEncoder\n",
    "from tqdm.auto import tqdm"
   ]
  },
  {
   "cell_type": "markdown",
   "metadata": {},
   "source": [
    "# Данные"
   ]
  },
  {
   "cell_type": "code",
   "execution_count": 154,
   "metadata": {},
   "outputs": [],
   "source": [
    "data_folder = \"./\"\n",
    "\n",
    "users_df = pd.read_csv(data_folder + \"users_df.csv\")\n",
    "items_df = pd.read_csv(data_folder + \"items_df.csv\")\n",
    "\n",
    "countries = pd.read_csv(data_folder + \"countries.csv\")\n",
    "genres = pd.read_csv(data_folder + \"genres.csv\")\n",
    "staff = pd.read_csv(data_folder + \"staff.csv\")\n",
    "\n",
    "train_part = pd.read_csv(data_folder + \"train_data.csv\", parse_dates=[\"datetime\"])\n",
    "test_part = pd.read_csv(data_folder + \"test_data.csv\")\n",
    "test_part = test_part.groupby(\"user_id\").agg({\"movie_id\": list}).reset_index()\n"
   ]
  },
  {
   "cell_type": "markdown",
   "metadata": {},
   "source": [
    "# Метрики"
   ]
  },
  {
   "cell_type": "code",
   "execution_count": 157,
   "metadata": {},
   "outputs": [],
   "source": [
    "# ACHTUNG! DO NOT TOUCH \n",
    "\n",
    "def ndcg_metric(gt_items: np.ndarray, predicted: np.ndarray) -> float:\n",
    "    at = len(predicted)\n",
    "    relevance = np.array([1 if x in predicted else 0 for x in gt_items])\n",
    "    # DCG uses the relevance of the recommended items\n",
    "    rank_dcg = dcg(relevance)\n",
    "    if rank_dcg == 0.0:\n",
    "        return 0.0\n",
    "\n",
    "    # IDCG has all relevances to 1 (or the values provided), up to the number of items in the test set that can fit in the list length\n",
    "    ideal_dcg = dcg(np.sort(relevance)[::-1][:at])\n",
    "\n",
    "    if ideal_dcg == 0.0:\n",
    "        return 0.0\n",
    "\n",
    "    ndcg_ = rank_dcg / ideal_dcg\n",
    "\n",
    "    return ndcg_\n",
    "\n",
    "\n",
    "def dcg(scores: np.ndarray) -> float:\n",
    "    return np.sum(\n",
    "        np.divide(np.power(2, scores) - 1, np.log2(np.arange(scores.shape[0], dtype=np.float64) + 2)), dtype=np.float64\n",
    "    )\n",
    "\n",
    "\n",
    "def recall_metric(gt_items: np.ndarray, predicted: np.ndarray) -> float:\n",
    "    n_gt = len(gt_items)\n",
    "    intersection = len(set(gt_items).intersection(set(predicted)))\n",
    "    return intersection / n_gt\n",
    "\n",
    "\n",
    "def evaluate_recommender(df: pd.DataFrame, model_preds_col: str, gt_col: str = \"movie_id\") -> Dict[str, float]:\n",
    "    metric_values = []\n",
    "\n",
    "    for _, row in df.iterrows():\n",
    "        metric_values.append(\n",
    "            (ndcg_metric(row[gt_col], row[model_preds_col]), recall_metric(row[gt_col], row[model_preds_col]))\n",
    "        )\n",
    "\n",
    "    return {\"ndcg\": np.mean([x[0] for x in metric_values]), \"recall\": np.mean([x[1] for x in metric_values])}"
   ]
  },
  {
   "cell_type": "markdown",
   "metadata": {},
   "source": [
    "#### Класс, от которого стоит наследовать все ваши модели, чтобы эксперименты было проще проводить"
   ]
  },
  {
   "cell_type": "code",
   "execution_count": 158,
   "metadata": {},
   "outputs": [],
   "source": [
    "class BaseRecommender(ABC):\n",
    "    def __init__(self):\n",
    "        self.trained = False\n",
    "\n",
    "    @abstractmethod\n",
    "    def fit(self, df: pd.DataFrame) -> None:\n",
    "        # реализация может быть любой, никаких ограничений\n",
    "    \n",
    "        # не забудьте про\n",
    "        self.trained = True\n",
    "\n",
    "    @abstractmethod\n",
    "    def predict(self, df: pd.DataFrame, topn: int = 10) -> List[np.ndarray]:\n",
    "        # реализация может быть любой, НО\n",
    "        # должен возвращать список массивов из movie_id, которые есть в `item_df`, чтобы корректно работал подсчет метрик\n",
    "        pass"
   ]
  },
  {
   "cell_type": "code",
   "execution_count": null,
   "metadata": {},
   "outputs": [],
   "source": []
  },
  {
   "cell_type": "markdown",
   "metadata": {},
   "source": [
    "Раз уж у нас данные из неявных взаимодействий, то появилась мысль затюнить ALS из примера, чтобы работать с confidence matrix и параметром, отвечающим за вес (не)нужных нам взаимодействий.\n",
    "\n",
    "$C_{ij} = 1 + \\alpha \\times R_{ij},$ \\\n",
    "где $\\alpha - $ гиперпараметр, который отвечает за важность каждого взаимодействия \\\n",
    "$ R_{ij} - $ изначальная матрица взаимодействия\n",
    " \n",
    " Далее были учтены веса для набо жанров через бинарное представление (с весом $\\frac{\\alpha}{10}$) и для годов производства по приницу: новинки смотрятся в первую очередь (с весом $\\frac{\\alpha}{100}$), а общий вес считается как произведение этих двух."
   ]
  },
  {
   "cell_type": "code",
   "execution_count": 159,
   "metadata": {},
   "outputs": [],
   "source": [
    "class ImplicitALS(BaseRecommender):\n",
    "    def __init__(self, factors: int = 100, regularization: float = 0.01, alpha: float = 1.0, iterations: int = 1, **kwargs) -> None:\n",
    "        super().__init__()\n",
    "        self.model = AlternatingLeastSquares(\n",
    "            factors=factors, regularization=regularization, iterations=iterations, **kwargs\n",
    "        )\n",
    "        self.alpha = alpha  # Параметр alpha для взвешивания confidence matrix, по умолчанию ставим 1.0\n",
    "        self.trained = False\n",
    "\n",
    "    def _calculate_item_features(self, item_df: pd.DataFrame, item_ids: np.ndarray) -> pd.DataFrame:\n",
    "        \"\"\"\n",
    "        Извлекает год и жанры для каждого фильма из item_df и фильтрует по item_ids (фильмы, которые смотрели пользователи).\n",
    "        Создается бинарное представление всех жанров.\n",
    "        Возвращает датафрейм с годом и бинарными представлениями жанров.\n",
    "        \"\"\"\n",
    "        # Извлекаем только нужные фильмы, ведь есть те, которые зрители не смотрели.\n",
    "        # Если это не учесть, то необходимые для умножения размеры матриц будут различными.\n",
    "        item_features = item_df[item_df['id'].isin(item_ids)].copy()\n",
    "\n",
    "        # Преобразуем дату в год\n",
    "        item_features['year'] = pd.to_datetime(item_features['year'], errors='coerce').dt.year\n",
    "\n",
    "        # Создаем список уникальных жанров для многомерного кодирования\n",
    "        unique_genres = set()\n",
    "        item_features['genres_list'] = item_features['genres'].apply(lambda x: [int(g) for g in x.strip('[]').split(',') if g.strip().isdigit()])\n",
    "        for genres in item_features['genres_list']:\n",
    "            unique_genres.update(genres)\n",
    "        \n",
    "        # Сортируем для единообразия\n",
    "        unique_genres = sorted(unique_genres)  \n",
    "\n",
    "        # Создаем бинарное представление жанров\n",
    "        for genre in unique_genres:\n",
    "            item_features[f'genre_{genre}'] = item_features['genres_list'].apply(lambda x: 1 if genre in x else 0)\n",
    "\n",
    "        # Возвращаем датафрейм с годом и бинарными представлениями жанров\n",
    "        genre_columns = [f'genre_{genre}' for genre in unique_genres]\n",
    "        return item_features[['id', 'year'] + genre_columns]\n",
    "\n",
    "    def _apply_item_weights(self, interaction_matrix: csr_matrix, item_features: pd.DataFrame, item_ids: np.ndarray) -> csr_matrix:\n",
    "        \"\"\"\n",
    "        Корректирует веса в interaction_matrix на основе года и жанров фильмов.\n",
    "        Для фильмов с несколькими жанрами вес рассчитывается как средний по жанрам.\n",
    "        Возвращает матрицу с учетом весов жанра + года выпуска.\n",
    "        \"\"\"\n",
    "        # Нормализуем год для применения весов\n",
    "        current_year = pd.Timestamp.now().year\n",
    "        \n",
    "        # Применяем веса для фильмов\n",
    "        for idx, item_id in enumerate(item_ids):\n",
    "            if idx >= interaction_matrix.shape[1]:\n",
    "                # Если индекс фильма выходит за пределы количества столбцов в interaction_matrix, пропускаем\n",
    "                continue\n",
    "\n",
    "            # Получаем данные о фильме (год и жанры)\n",
    "            movie_features = item_features[item_features['id'] == item_id]\n",
    "            if movie_features.empty:\n",
    "                continue\n",
    "\n",
    "            year = movie_features['year'].values[0]\n",
    "\n",
    "            # Рассчитываем вес для года (чем новее фильм, тем больше вес) с учетом alpha\n",
    "            year_weight = 1 + (current_year - year) * self.alpha / 100\n",
    "\n",
    "            # Рассчитываем средний вес по жанрам\n",
    "            genre_columns = [col for col in movie_features.columns if col.startswith('genre_')]\n",
    "            genre_weights = movie_features[genre_columns].values[0]\n",
    "\n",
    "            # Усредненный вес по жанрам, тоже с учетом alpha как доверительного коэффициента\n",
    "            average_genre_weight = 1 + (np.mean(genre_weights) * self.alpha / 10)  \n",
    "\n",
    "            # Общий вес\n",
    "            total_weight = year_weight * average_genre_weight\n",
    "\n",
    "            # Применяем общий вес к строке матрицы, соответствующей данному item_id\n",
    "            interaction_matrix[:, idx] = interaction_matrix[:, idx].multiply(total_weight)\n",
    "\n",
    "        return interaction_matrix\n",
    "\n",
    "\n",
    "    def fit(self, df: pd.DataFrame, item_df: pd.DataFrame, item_col: str = \"movie_id\", user_col: str = \"user_id\", value_col: str = None) -> None:\n",
    "        \"\"\"\n",
    "        Подготовка данных и обучение модели на неявных данных.\n",
    "        df - взаимодействия пользователей с фильмами.\n",
    "        item_df - информация о фильмах (жанры и год производства).\n",
    "        value_col: значение взаимодействия, если None, то использовать бинарное взаимодействие.\n",
    "        \"\"\"\n",
    "\n",
    "        self.user_encoder = LabelEncoder()\n",
    "        self.item_encoder = LabelEncoder()\n",
    "\n",
    "        # Преобразуем пользователей и фильмы в числовые id\n",
    "        user_ids = self.user_encoder.fit_transform(df[user_col])\n",
    "        item_ids = self.item_encoder.fit_transform(df[item_col])\n",
    "\n",
    "        if value_col is None:\n",
    "            counts = np.ones(len(df))\n",
    "        else:\n",
    "            counts = df[value_col].values\n",
    "        \n",
    "        # Создаем interaction matrix (пользователь, фильм) с количеством взаимодействий\n",
    "        matrix_shape = (len(self.user_encoder.classes_), len(self.item_encoder.classes_))\n",
    "        interaction_matrix = csr_matrix((counts, (user_ids, item_ids)), shape=matrix_shape)\n",
    "\n",
    "        # Добавляем alpha в веса матрицы взаимодействий\n",
    "        interaction_matrix = interaction_matrix.multiply(self.alpha)\n",
    "\n",
    "        # считаем, что взаимодействия, где нулевые значения(нет активности), уже учтены как значения, к которым вес не добавляем\n",
    "        # (к разреженной матрице единицу пробемно добавить, потому что разреженность нарушается)\n",
    "        interaction_matrix.data += 1 # Добавляем 1 только к ненулевым элементам\n",
    "\n",
    "          #######\n",
    "#         # по поводу комментария про добавление единицы\n",
    "#         # пробовал \n",
    "#         # identity_matrix = csr_matrix(np.ones(interaction_matrix.shape))- создаем единичную разреженную матрицу размеров interaction_matrix\n",
    "#         # self.confidence_matrix = (identity_matrix + interaction_matrix.multiply(self.alpha)).astype(\"double\")\n",
    "#         # но при запуске ячейки с подсчетом метрик мгновенно падало ядро, поэтому предполагаем по итогу без единицы на нулевых случаях \n",
    "          #######\n",
    "\n",
    "\n",
    "\n",
    "\n",
    "        # Извлекаем фичи для фильмов, которые взаимодействовали с пользователями\n",
    "        item_features = self._calculate_item_features(item_df, item_ids)\n",
    "\n",
    "        # Применяем веса на основе года и жанра\n",
    "        weight_interaction_matrix = self._apply_item_weights(interaction_matrix, item_features, item_ids)\n",
    "        \n",
    "        # Обучаем модель на скорректированной confidence_matrix\n",
    "        self.confidence_matrix = weight_interaction_matrix\n",
    "        self.model.fit(self.confidence_matrix)\n",
    "        self.trained = True\n",
    "\n",
    "    def predict(self, df: pd.DataFrame, topn: int = 10) -> List[np.ndarray]:\n",
    "        \"\"\"\n",
    "        Предсказание фильмов для пользователя по функции recommend модели.\n",
    "        Возвращает список topn фильмов.\n",
    "        \"\"\"\n",
    "        assert self.trained\n",
    "\n",
    "        all_recs = []\n",
    "\n",
    "        # Преобразуем пользователей\n",
    "        users = self.user_encoder.transform(df[\"user_id\"])\n",
    "\n",
    "        # Генерируем рекомендации для каждого пользователя\n",
    "        for user in tqdm(users, desc=\"predicting\", leave=False):\n",
    "            # Для данного пользователя делаем прогноз на topn фильмов\n",
    "            recommended_items, _ = self.model.recommend(user, self.confidence_matrix[user], N=topn)\n",
    "            # Декодируем id фильмов обратно\n",
    "            all_recs.append(self.item_encoder.inverse_transform(recommended_items))\n",
    "\n",
    "        return all_recs\n",
    "\n",
    "\n",
    "    "
   ]
  },
  {
   "cell_type": "markdown",
   "metadata": {},
   "source": [
    "Считаем метрики\n"
   ]
  },
  {
   "cell_type": "markdown",
   "metadata": {},
   "source": [
    "$\\alpha = 1.0 $ тестируем с гиперпараметрами из примера\n",
    "\n"
   ]
  },
  {
   "cell_type": "code",
   "execution_count": 160,
   "metadata": {},
   "outputs": [
    {
     "data": {
      "application/vnd.jupyter.widget-view+json": {
       "model_id": "e8ddebc4efbb44deb736dab0e96e19f3",
       "version_major": 2,
       "version_minor": 0
      },
      "text/plain": [
       "  0%|          | 0/1 [00:00<?, ?it/s]"
      ]
     },
     "metadata": {},
     "output_type": "display_data"
    },
    {
     "data": {
      "application/vnd.jupyter.widget-view+json": {
       "model_id": "478f0115d0ef499999273e9691993444",
       "version_major": 2,
       "version_minor": 0
      },
      "text/plain": [
       "predicting:   0%|          | 0/66900 [00:00<?, ?it/s]"
      ]
     },
     "metadata": {},
     "output_type": "display_data"
    },
    {
     "name": "stdout",
     "output_type": "stream",
     "text": [
      "77 s -- fit + predict\n"
     ]
    }
   ],
   "source": [
    "import time \n",
    "\n",
    "start = time.time() # Добавим таймер, чтобы увидеть длительность процесса для сравнения с примером\n",
    "\n",
    "als_rec = ImplicitALS(iterations=1, factors=2, alpha=1.0, random_state=42)\n",
    "als_rec.fit(df = train_part, item_df= items_df)\n",
    "test_part[\"implicit_als_recs\"] = als_rec.predict(test_part)\n",
    "\n",
    "end = time.time() - start \n",
    "\n",
    "print(int(end), \"s -- fit + predict\") ## Выводим время \n"
   ]
  },
  {
   "cell_type": "markdown",
   "metadata": {},
   "source": []
  },
  {
   "cell_type": "markdown",
   "metadata": {},
   "source": [
    "Замечаем, что длительность fit + predict значительно возросла. Предположительно это связано с появлением дополнительных матриц и расчета их перемножения на матрицу взаимодействий."
   ]
  },
  {
   "cell_type": "code",
   "execution_count": 161,
   "metadata": {},
   "outputs": [
    {
     "data": {
      "text/plain": [
       "{'ndcg': np.float64(0.07964188700384324),\n",
       " 'recall': np.float64(0.03543281484609385)}"
      ]
     },
     "execution_count": 161,
     "metadata": {},
     "output_type": "execute_result"
    }
   ],
   "source": [
    "evaluate_recommender(test_part, model_preds_col=\"implicit_als_recs\")\n"
   ]
  },
  {
   "cell_type": "markdown",
   "metadata": {},
   "source": [
    "Качество все еще не стало лучше, чем у популярных фильмов, но модель показала результат чуточку выше, чем исходная в примере. Так что возникает мысль выбора оптимального гиперпараметра $\\alpha$ с надеждой превзойти. Попробуем написать кросс-валидацию и надеяться на чудо, что повезет."
   ]
  },
  {
   "cell_type": "code",
   "execution_count": 126,
   "metadata": {},
   "outputs": [],
   "source": [
    "class CrossValidator:\n",
    "    def __init__(self, model_class, alphas: List[float], topn: int = 10, k_folds: int = 5):\n",
    "        self.model_class = model_class  # Класс модели, которую мы будем использовать\n",
    "        self.alphas = alphas  # Список значений alpha, которые мы будем тестировать\n",
    "        self.topn = topn  # Количество фильмов для рекомендаций\n",
    "        self.k_folds = k_folds  # Количество фолдов для кросс-валидации\n",
    "\n",
    "    def _split_data(self, data: pd.DataFrame, k: int) -> List[pd.DataFrame]:\n",
    "        \"\"\" Разбиваем данные на k фолдов \"\"\"\n",
    "        return np.array_split(data.sample(frac=1, random_state=42), k)\n",
    "\n",
    "    def run_cv(self, train_data: pd.DataFrame, test_data: pd.DataFrame, item_data: pd.DataFrame, \n",
    "               item_col: str = \"movie_id\", user_col: str = \"user_id\") -> Dict[float, Dict[str, float]]:\n",
    "        results = {}\n",
    "\n",
    "        for alpha in self.alphas:\n",
    "            print(f\"Training with alpha={alpha}\")\n",
    "\n",
    "            fold_results = []\n",
    "            for fold_idx in range(self.k_folds):\n",
    "                print(f\"Fold {fold_idx + 1}/{self.k_folds}\")\n",
    "\n",
    "                # Разбиваем данные на обучающую и тестовую выборки\n",
    "                train_fold = train_data\n",
    "                test_fold = test_data.copy()\n",
    "\n",
    "                # Инициализируем модель с текущим alpha\n",
    "                model = self.model_class(iterations=1, factors=2, alpha=alpha, random_state=42)\n",
    "                model.fit(train_fold, item_data, item_col=item_col, user_col=user_col)\n",
    "\n",
    "                # Получаем предсказания для тестовой выборки\n",
    "                test_fold[\"predictions\"] = model.predict(test_fold, topn=self.topn)\n",
    "\n",
    "                # Оцениваем качество предсказаний\n",
    "                metrics = evaluate_recommender(test_fold, \"predictions\")\n",
    "                fold_results.append(metrics)\n",
    "\n",
    "            # Считаем средние результаты по фолдам\n",
    "            avg_metrics = {\n",
    "                \"ndcg\": np.mean([result[\"ndcg\"] for result in fold_results]),\n",
    "                \"recall\": np.mean([result[\"recall\"] for result in fold_results]),\n",
    "            }\n",
    "            results[alpha] = avg_metrics\n",
    "            print(f\"Results for alpha={alpha}: {avg_metrics}\")\n",
    "\n",
    "        return results\n"
   ]
  },
  {
   "cell_type": "markdown",
   "metadata": {},
   "source": [
    "### Запускаем и смотрим на лучший $\\alpha$"
   ]
  },
  {
   "cell_type": "code",
   "execution_count": 127,
   "metadata": {},
   "outputs": [
    {
     "name": "stdout",
     "output_type": "stream",
     "text": [
      "Training with alpha=0.1\n",
      "Fold 1/3\n"
     ]
    },
    {
     "data": {
      "application/vnd.jupyter.widget-view+json": {
       "model_id": "f0d258c033854be391b51ffa8cfe8a9e",
       "version_major": 2,
       "version_minor": 0
      },
      "text/plain": [
       "  0%|          | 0/1 [00:00<?, ?it/s]"
      ]
     },
     "metadata": {},
     "output_type": "display_data"
    },
    {
     "data": {
      "application/vnd.jupyter.widget-view+json": {
       "model_id": "dd1886c3d3c245858ba98a9a912f1dca",
       "version_major": 2,
       "version_minor": 0
      },
      "text/plain": [
       "predicting:   0%|          | 0/66900 [00:00<?, ?it/s]"
      ]
     },
     "metadata": {},
     "output_type": "display_data"
    },
    {
     "name": "stdout",
     "output_type": "stream",
     "text": [
      "Fold 2/3\n"
     ]
    },
    {
     "data": {
      "application/vnd.jupyter.widget-view+json": {
       "model_id": "219035113f3941a8a774dfa62f78c9e1",
       "version_major": 2,
       "version_minor": 0
      },
      "text/plain": [
       "  0%|          | 0/1 [00:00<?, ?it/s]"
      ]
     },
     "metadata": {},
     "output_type": "display_data"
    },
    {
     "data": {
      "application/vnd.jupyter.widget-view+json": {
       "model_id": "9ef317750b134263a0b4f6d89a9d88bd",
       "version_major": 2,
       "version_minor": 0
      },
      "text/plain": [
       "predicting:   0%|          | 0/66900 [00:00<?, ?it/s]"
      ]
     },
     "metadata": {},
     "output_type": "display_data"
    },
    {
     "name": "stdout",
     "output_type": "stream",
     "text": [
      "Fold 3/3\n"
     ]
    },
    {
     "data": {
      "application/vnd.jupyter.widget-view+json": {
       "model_id": "5c5591d9494445ddacef4c5f48155917",
       "version_major": 2,
       "version_minor": 0
      },
      "text/plain": [
       "  0%|          | 0/1 [00:00<?, ?it/s]"
      ]
     },
     "metadata": {},
     "output_type": "display_data"
    },
    {
     "data": {
      "application/vnd.jupyter.widget-view+json": {
       "model_id": "54c55241fd7444e88749f8e8400f6b4e",
       "version_major": 2,
       "version_minor": 0
      },
      "text/plain": [
       "predicting:   0%|          | 0/66900 [00:00<?, ?it/s]"
      ]
     },
     "metadata": {},
     "output_type": "display_data"
    },
    {
     "name": "stdout",
     "output_type": "stream",
     "text": [
      "Results for alpha=0.1: {'ndcg': np.float64(0.07434208120098885), 'recall': np.float64(0.03392220920060579)}\n",
      "Training with alpha=0.2\n",
      "Fold 1/3\n"
     ]
    },
    {
     "data": {
      "application/vnd.jupyter.widget-view+json": {
       "model_id": "f474bd4919094b8ebe8f5102c4a2a6f4",
       "version_major": 2,
       "version_minor": 0
      },
      "text/plain": [
       "  0%|          | 0/1 [00:00<?, ?it/s]"
      ]
     },
     "metadata": {},
     "output_type": "display_data"
    },
    {
     "data": {
      "application/vnd.jupyter.widget-view+json": {
       "model_id": "75ad7012566444e69d271d90b8c31417",
       "version_major": 2,
       "version_minor": 0
      },
      "text/plain": [
       "predicting:   0%|          | 0/66900 [00:00<?, ?it/s]"
      ]
     },
     "metadata": {},
     "output_type": "display_data"
    },
    {
     "name": "stdout",
     "output_type": "stream",
     "text": [
      "Fold 2/3\n"
     ]
    },
    {
     "data": {
      "application/vnd.jupyter.widget-view+json": {
       "model_id": "c2b09b44066440fd9235921ad98aa333",
       "version_major": 2,
       "version_minor": 0
      },
      "text/plain": [
       "  0%|          | 0/1 [00:00<?, ?it/s]"
      ]
     },
     "metadata": {},
     "output_type": "display_data"
    },
    {
     "data": {
      "application/vnd.jupyter.widget-view+json": {
       "model_id": "f6c6eb3a3e4848cc9b446c06ba5846d4",
       "version_major": 2,
       "version_minor": 0
      },
      "text/plain": [
       "predicting:   0%|          | 0/66900 [00:00<?, ?it/s]"
      ]
     },
     "metadata": {},
     "output_type": "display_data"
    },
    {
     "name": "stdout",
     "output_type": "stream",
     "text": [
      "Fold 3/3\n"
     ]
    },
    {
     "data": {
      "application/vnd.jupyter.widget-view+json": {
       "model_id": "2e4f7e5334d54830a0c19e168cdd481e",
       "version_major": 2,
       "version_minor": 0
      },
      "text/plain": [
       "  0%|          | 0/1 [00:00<?, ?it/s]"
      ]
     },
     "metadata": {},
     "output_type": "display_data"
    },
    {
     "data": {
      "application/vnd.jupyter.widget-view+json": {
       "model_id": "7ee1199e54d64515aaffd092bfcad969",
       "version_major": 2,
       "version_minor": 0
      },
      "text/plain": [
       "predicting:   0%|          | 0/66900 [00:00<?, ?it/s]"
      ]
     },
     "metadata": {},
     "output_type": "display_data"
    },
    {
     "name": "stdout",
     "output_type": "stream",
     "text": [
      "Results for alpha=0.2: {'ndcg': np.float64(0.07575491376092391), 'recall': np.float64(0.03457686763197831)}\n",
      "Training with alpha=0.5\n",
      "Fold 1/3\n"
     ]
    },
    {
     "data": {
      "application/vnd.jupyter.widget-view+json": {
       "model_id": "fbc62bc912b94841be5d532e81abce46",
       "version_major": 2,
       "version_minor": 0
      },
      "text/plain": [
       "  0%|          | 0/1 [00:00<?, ?it/s]"
      ]
     },
     "metadata": {},
     "output_type": "display_data"
    },
    {
     "data": {
      "application/vnd.jupyter.widget-view+json": {
       "model_id": "6b68047044964588931988c521618ca8",
       "version_major": 2,
       "version_minor": 0
      },
      "text/plain": [
       "predicting:   0%|          | 0/66900 [00:00<?, ?it/s]"
      ]
     },
     "metadata": {},
     "output_type": "display_data"
    },
    {
     "name": "stdout",
     "output_type": "stream",
     "text": [
      "Fold 2/3\n"
     ]
    },
    {
     "data": {
      "application/vnd.jupyter.widget-view+json": {
       "model_id": "698d5b7af4b649ef836e358f9ff5dc19",
       "version_major": 2,
       "version_minor": 0
      },
      "text/plain": [
       "  0%|          | 0/1 [00:00<?, ?it/s]"
      ]
     },
     "metadata": {},
     "output_type": "display_data"
    },
    {
     "data": {
      "application/vnd.jupyter.widget-view+json": {
       "model_id": "87c443bd8d71447385e42629dbbe447c",
       "version_major": 2,
       "version_minor": 0
      },
      "text/plain": [
       "predicting:   0%|          | 0/66900 [00:00<?, ?it/s]"
      ]
     },
     "metadata": {},
     "output_type": "display_data"
    },
    {
     "name": "stdout",
     "output_type": "stream",
     "text": [
      "Fold 3/3\n"
     ]
    },
    {
     "data": {
      "application/vnd.jupyter.widget-view+json": {
       "model_id": "338c46e5e2fa403fbaa046d33a10a6e9",
       "version_major": 2,
       "version_minor": 0
      },
      "text/plain": [
       "  0%|          | 0/1 [00:00<?, ?it/s]"
      ]
     },
     "metadata": {},
     "output_type": "display_data"
    },
    {
     "data": {
      "application/vnd.jupyter.widget-view+json": {
       "model_id": "a53812f8de6343a3b2755eebcf3e980f",
       "version_major": 2,
       "version_minor": 0
      },
      "text/plain": [
       "predicting:   0%|          | 0/66900 [00:00<?, ?it/s]"
      ]
     },
     "metadata": {},
     "output_type": "display_data"
    },
    {
     "name": "stdout",
     "output_type": "stream",
     "text": [
      "Results for alpha=0.5: {'ndcg': np.float64(0.07661341320390798), 'recall': np.float64(0.034595808363406255)}\n",
      "Training with alpha=0.8\n",
      "Fold 1/3\n"
     ]
    },
    {
     "data": {
      "application/vnd.jupyter.widget-view+json": {
       "model_id": "ec523842ccba4d6f9f68956f706519d5",
       "version_major": 2,
       "version_minor": 0
      },
      "text/plain": [
       "  0%|          | 0/1 [00:00<?, ?it/s]"
      ]
     },
     "metadata": {},
     "output_type": "display_data"
    },
    {
     "data": {
      "application/vnd.jupyter.widget-view+json": {
       "model_id": "cd45e7b8c24b4f2e9f17795b50d34c8a",
       "version_major": 2,
       "version_minor": 0
      },
      "text/plain": [
       "predicting:   0%|          | 0/66900 [00:00<?, ?it/s]"
      ]
     },
     "metadata": {},
     "output_type": "display_data"
    },
    {
     "name": "stdout",
     "output_type": "stream",
     "text": [
      "Fold 2/3\n"
     ]
    },
    {
     "data": {
      "application/vnd.jupyter.widget-view+json": {
       "model_id": "8b4f74963ca64f9485e7f707dccd1816",
       "version_major": 2,
       "version_minor": 0
      },
      "text/plain": [
       "  0%|          | 0/1 [00:00<?, ?it/s]"
      ]
     },
     "metadata": {},
     "output_type": "display_data"
    },
    {
     "data": {
      "application/vnd.jupyter.widget-view+json": {
       "model_id": "65370dfb106b4e049d73d38b611d400d",
       "version_major": 2,
       "version_minor": 0
      },
      "text/plain": [
       "predicting:   0%|          | 0/66900 [00:00<?, ?it/s]"
      ]
     },
     "metadata": {},
     "output_type": "display_data"
    },
    {
     "name": "stdout",
     "output_type": "stream",
     "text": [
      "Fold 3/3\n"
     ]
    },
    {
     "data": {
      "application/vnd.jupyter.widget-view+json": {
       "model_id": "e6589b2335c548b3af9ecd0131a08f03",
       "version_major": 2,
       "version_minor": 0
      },
      "text/plain": [
       "  0%|          | 0/1 [00:00<?, ?it/s]"
      ]
     },
     "metadata": {},
     "output_type": "display_data"
    },
    {
     "data": {
      "application/vnd.jupyter.widget-view+json": {
       "model_id": "1cb0206568e847f5ab3c3906525e2613",
       "version_major": 2,
       "version_minor": 0
      },
      "text/plain": [
       "predicting:   0%|          | 0/66900 [00:00<?, ?it/s]"
      ]
     },
     "metadata": {},
     "output_type": "display_data"
    },
    {
     "name": "stdout",
     "output_type": "stream",
     "text": [
      "Results for alpha=0.8: {'ndcg': np.float64(0.07856704806754669), 'recall': np.float64(0.035207497561842)}\n",
      "Training with alpha=1.0\n",
      "Fold 1/3\n"
     ]
    },
    {
     "data": {
      "application/vnd.jupyter.widget-view+json": {
       "model_id": "92ee23f4c8594df1bcaa2ddd5d5be0d2",
       "version_major": 2,
       "version_minor": 0
      },
      "text/plain": [
       "  0%|          | 0/1 [00:00<?, ?it/s]"
      ]
     },
     "metadata": {},
     "output_type": "display_data"
    },
    {
     "data": {
      "application/vnd.jupyter.widget-view+json": {
       "model_id": "b10e7c3bdd56482985ecb56a52186c50",
       "version_major": 2,
       "version_minor": 0
      },
      "text/plain": [
       "predicting:   0%|          | 0/66900 [00:00<?, ?it/s]"
      ]
     },
     "metadata": {},
     "output_type": "display_data"
    },
    {
     "name": "stdout",
     "output_type": "stream",
     "text": [
      "Fold 2/3\n"
     ]
    },
    {
     "data": {
      "application/vnd.jupyter.widget-view+json": {
       "model_id": "959217eda75549ef87e2eef3677ac88d",
       "version_major": 2,
       "version_minor": 0
      },
      "text/plain": [
       "  0%|          | 0/1 [00:00<?, ?it/s]"
      ]
     },
     "metadata": {},
     "output_type": "display_data"
    },
    {
     "data": {
      "application/vnd.jupyter.widget-view+json": {
       "model_id": "c98bb639de324152b018dd5d61316863",
       "version_major": 2,
       "version_minor": 0
      },
      "text/plain": [
       "predicting:   0%|          | 0/66900 [00:00<?, ?it/s]"
      ]
     },
     "metadata": {},
     "output_type": "display_data"
    },
    {
     "name": "stdout",
     "output_type": "stream",
     "text": [
      "Fold 3/3\n"
     ]
    },
    {
     "data": {
      "application/vnd.jupyter.widget-view+json": {
       "model_id": "439b5758609549939d8c820614318a0c",
       "version_major": 2,
       "version_minor": 0
      },
      "text/plain": [
       "  0%|          | 0/1 [00:00<?, ?it/s]"
      ]
     },
     "metadata": {},
     "output_type": "display_data"
    },
    {
     "data": {
      "application/vnd.jupyter.widget-view+json": {
       "model_id": "d58ed1c6ab424321b9298b4fd79069ec",
       "version_major": 2,
       "version_minor": 0
      },
      "text/plain": [
       "predicting:   0%|          | 0/66900 [00:00<?, ?it/s]"
      ]
     },
     "metadata": {},
     "output_type": "display_data"
    },
    {
     "name": "stdout",
     "output_type": "stream",
     "text": [
      "Results for alpha=1.0: {'ndcg': np.float64(0.07964188700384324), 'recall': np.float64(0.03543281484609385)}\n",
      "Training with alpha=1.2\n",
      "Fold 1/3\n"
     ]
    },
    {
     "data": {
      "application/vnd.jupyter.widget-view+json": {
       "model_id": "bf7564ffebfd46bf823d5e5374838ca6",
       "version_major": 2,
       "version_minor": 0
      },
      "text/plain": [
       "  0%|          | 0/1 [00:00<?, ?it/s]"
      ]
     },
     "metadata": {},
     "output_type": "display_data"
    },
    {
     "data": {
      "application/vnd.jupyter.widget-view+json": {
       "model_id": "19891733814740069fa334774825f838",
       "version_major": 2,
       "version_minor": 0
      },
      "text/plain": [
       "predicting:   0%|          | 0/66900 [00:00<?, ?it/s]"
      ]
     },
     "metadata": {},
     "output_type": "display_data"
    },
    {
     "name": "stdout",
     "output_type": "stream",
     "text": [
      "Fold 2/3\n"
     ]
    },
    {
     "data": {
      "application/vnd.jupyter.widget-view+json": {
       "model_id": "defbd16b5095467896e2b902c570f2bf",
       "version_major": 2,
       "version_minor": 0
      },
      "text/plain": [
       "  0%|          | 0/1 [00:00<?, ?it/s]"
      ]
     },
     "metadata": {},
     "output_type": "display_data"
    },
    {
     "data": {
      "application/vnd.jupyter.widget-view+json": {
       "model_id": "3186141b0b8d479ca541d477d1fe7548",
       "version_major": 2,
       "version_minor": 0
      },
      "text/plain": [
       "predicting:   0%|          | 0/66900 [00:00<?, ?it/s]"
      ]
     },
     "metadata": {},
     "output_type": "display_data"
    },
    {
     "name": "stdout",
     "output_type": "stream",
     "text": [
      "Fold 3/3\n"
     ]
    },
    {
     "data": {
      "application/vnd.jupyter.widget-view+json": {
       "model_id": "1085b993f9f34bbfa129d736cee3c676",
       "version_major": 2,
       "version_minor": 0
      },
      "text/plain": [
       "  0%|          | 0/1 [00:00<?, ?it/s]"
      ]
     },
     "metadata": {},
     "output_type": "display_data"
    },
    {
     "data": {
      "application/vnd.jupyter.widget-view+json": {
       "model_id": "cb21dd3553be465e853cf97722eb90c7",
       "version_major": 2,
       "version_minor": 0
      },
      "text/plain": [
       "predicting:   0%|          | 0/66900 [00:00<?, ?it/s]"
      ]
     },
     "metadata": {},
     "output_type": "display_data"
    },
    {
     "name": "stdout",
     "output_type": "stream",
     "text": [
      "Results for alpha=1.2: {'ndcg': np.float64(0.08049238980584385), 'recall': np.float64(0.03574063712042519)}\n",
      "Training with alpha=1.4\n",
      "Fold 1/3\n"
     ]
    },
    {
     "data": {
      "application/vnd.jupyter.widget-view+json": {
       "model_id": "9d5c42cd611e412e8cc72f5c282c8483",
       "version_major": 2,
       "version_minor": 0
      },
      "text/plain": [
       "  0%|          | 0/1 [00:00<?, ?it/s]"
      ]
     },
     "metadata": {},
     "output_type": "display_data"
    },
    {
     "data": {
      "application/vnd.jupyter.widget-view+json": {
       "model_id": "05ae48ea6b1e4ba9951deba4151683ad",
       "version_major": 2,
       "version_minor": 0
      },
      "text/plain": [
       "predicting:   0%|          | 0/66900 [00:00<?, ?it/s]"
      ]
     },
     "metadata": {},
     "output_type": "display_data"
    },
    {
     "name": "stdout",
     "output_type": "stream",
     "text": [
      "Fold 2/3\n"
     ]
    },
    {
     "data": {
      "application/vnd.jupyter.widget-view+json": {
       "model_id": "222d9be626224fd98708e6bf4871f273",
       "version_major": 2,
       "version_minor": 0
      },
      "text/plain": [
       "  0%|          | 0/1 [00:00<?, ?it/s]"
      ]
     },
     "metadata": {},
     "output_type": "display_data"
    },
    {
     "data": {
      "application/vnd.jupyter.widget-view+json": {
       "model_id": "0ed8efaad4ec4bdebe8f3dfc691b0226",
       "version_major": 2,
       "version_minor": 0
      },
      "text/plain": [
       "predicting:   0%|          | 0/66900 [00:00<?, ?it/s]"
      ]
     },
     "metadata": {},
     "output_type": "display_data"
    },
    {
     "name": "stdout",
     "output_type": "stream",
     "text": [
      "Fold 3/3\n"
     ]
    },
    {
     "data": {
      "application/vnd.jupyter.widget-view+json": {
       "model_id": "859e0adaf6c547e3963aa24f1403d75b",
       "version_major": 2,
       "version_minor": 0
      },
      "text/plain": [
       "  0%|          | 0/1 [00:00<?, ?it/s]"
      ]
     },
     "metadata": {},
     "output_type": "display_data"
    },
    {
     "data": {
      "application/vnd.jupyter.widget-view+json": {
       "model_id": "4b6fa90177674d0f943cd88e0578d26e",
       "version_major": 2,
       "version_minor": 0
      },
      "text/plain": [
       "predicting:   0%|          | 0/66900 [00:00<?, ?it/s]"
      ]
     },
     "metadata": {},
     "output_type": "display_data"
    },
    {
     "name": "stdout",
     "output_type": "stream",
     "text": [
      "Results for alpha=1.4: {'ndcg': np.float64(0.0810773070648304), 'recall': np.float64(0.03598779628750044)}\n",
      "Training with alpha=1.5\n",
      "Fold 1/3\n"
     ]
    },
    {
     "data": {
      "application/vnd.jupyter.widget-view+json": {
       "model_id": "5839abc25923462f9305649ffa90ec81",
       "version_major": 2,
       "version_minor": 0
      },
      "text/plain": [
       "  0%|          | 0/1 [00:00<?, ?it/s]"
      ]
     },
     "metadata": {},
     "output_type": "display_data"
    },
    {
     "data": {
      "application/vnd.jupyter.widget-view+json": {
       "model_id": "482cd47180ec4e04ac11a8ec2e3dcdfb",
       "version_major": 2,
       "version_minor": 0
      },
      "text/plain": [
       "predicting:   0%|          | 0/66900 [00:00<?, ?it/s]"
      ]
     },
     "metadata": {},
     "output_type": "display_data"
    },
    {
     "name": "stdout",
     "output_type": "stream",
     "text": [
      "Fold 2/3\n"
     ]
    },
    {
     "data": {
      "application/vnd.jupyter.widget-view+json": {
       "model_id": "273ab2be3f8e4946ba26fe4f33659f08",
       "version_major": 2,
       "version_minor": 0
      },
      "text/plain": [
       "  0%|          | 0/1 [00:00<?, ?it/s]"
      ]
     },
     "metadata": {},
     "output_type": "display_data"
    },
    {
     "data": {
      "application/vnd.jupyter.widget-view+json": {
       "model_id": "ed4d822bece64e73ac549bead54148e6",
       "version_major": 2,
       "version_minor": 0
      },
      "text/plain": [
       "predicting:   0%|          | 0/66900 [00:00<?, ?it/s]"
      ]
     },
     "metadata": {},
     "output_type": "display_data"
    },
    {
     "name": "stdout",
     "output_type": "stream",
     "text": [
      "Fold 3/3\n"
     ]
    },
    {
     "data": {
      "application/vnd.jupyter.widget-view+json": {
       "model_id": "f29fe7277de0492ea9f6fff74f1fe2db",
       "version_major": 2,
       "version_minor": 0
      },
      "text/plain": [
       "  0%|          | 0/1 [00:00<?, ?it/s]"
      ]
     },
     "metadata": {},
     "output_type": "display_data"
    },
    {
     "data": {
      "application/vnd.jupyter.widget-view+json": {
       "model_id": "7b6a6447f8ad45988afd8f39464961a3",
       "version_major": 2,
       "version_minor": 0
      },
      "text/plain": [
       "predicting:   0%|          | 0/66900 [00:00<?, ?it/s]"
      ]
     },
     "metadata": {},
     "output_type": "display_data"
    },
    {
     "name": "stdout",
     "output_type": "stream",
     "text": [
      "Results for alpha=1.5: {'ndcg': np.float64(0.08068247710332219), 'recall': np.float64(0.03558785927692243)}\n",
      "Training with alpha=1.8\n",
      "Fold 1/3\n"
     ]
    },
    {
     "data": {
      "application/vnd.jupyter.widget-view+json": {
       "model_id": "ae9a7638bf7449fd8acf54f9b46e1cd4",
       "version_major": 2,
       "version_minor": 0
      },
      "text/plain": [
       "  0%|          | 0/1 [00:00<?, ?it/s]"
      ]
     },
     "metadata": {},
     "output_type": "display_data"
    },
    {
     "data": {
      "application/vnd.jupyter.widget-view+json": {
       "model_id": "5f327aba3c8847cf9e8d35929632bd27",
       "version_major": 2,
       "version_minor": 0
      },
      "text/plain": [
       "predicting:   0%|          | 0/66900 [00:00<?, ?it/s]"
      ]
     },
     "metadata": {},
     "output_type": "display_data"
    },
    {
     "name": "stdout",
     "output_type": "stream",
     "text": [
      "Fold 2/3\n"
     ]
    },
    {
     "data": {
      "application/vnd.jupyter.widget-view+json": {
       "model_id": "3d36af6ee86b4dcb8c9161a170e03cf6",
       "version_major": 2,
       "version_minor": 0
      },
      "text/plain": [
       "  0%|          | 0/1 [00:00<?, ?it/s]"
      ]
     },
     "metadata": {},
     "output_type": "display_data"
    },
    {
     "data": {
      "application/vnd.jupyter.widget-view+json": {
       "model_id": "8eba6bbc3b474049b076b58b2f16ed67",
       "version_major": 2,
       "version_minor": 0
      },
      "text/plain": [
       "predicting:   0%|          | 0/66900 [00:00<?, ?it/s]"
      ]
     },
     "metadata": {},
     "output_type": "display_data"
    },
    {
     "name": "stdout",
     "output_type": "stream",
     "text": [
      "Fold 3/3\n"
     ]
    },
    {
     "data": {
      "application/vnd.jupyter.widget-view+json": {
       "model_id": "aa60b3577a2242f8bfa4e8ebf0b6fe35",
       "version_major": 2,
       "version_minor": 0
      },
      "text/plain": [
       "  0%|          | 0/1 [00:00<?, ?it/s]"
      ]
     },
     "metadata": {},
     "output_type": "display_data"
    },
    {
     "data": {
      "application/vnd.jupyter.widget-view+json": {
       "model_id": "8785bedbd24a4833bbe1d63e674bf61a",
       "version_major": 2,
       "version_minor": 0
      },
      "text/plain": [
       "predicting:   0%|          | 0/66900 [00:00<?, ?it/s]"
      ]
     },
     "metadata": {},
     "output_type": "display_data"
    },
    {
     "name": "stdout",
     "output_type": "stream",
     "text": [
      "Results for alpha=1.8: {'ndcg': np.float64(0.07924895114844227), 'recall': np.float64(0.0345668855101736)}\n",
      "Training with alpha=2.0\n",
      "Fold 1/3\n"
     ]
    },
    {
     "data": {
      "application/vnd.jupyter.widget-view+json": {
       "model_id": "08fac0d1233f4ecaa4f200c52515f0e6",
       "version_major": 2,
       "version_minor": 0
      },
      "text/plain": [
       "  0%|          | 0/1 [00:00<?, ?it/s]"
      ]
     },
     "metadata": {},
     "output_type": "display_data"
    },
    {
     "data": {
      "application/vnd.jupyter.widget-view+json": {
       "model_id": "641a4dfcbd2b4269adc1587804389da5",
       "version_major": 2,
       "version_minor": 0
      },
      "text/plain": [
       "predicting:   0%|          | 0/66900 [00:00<?, ?it/s]"
      ]
     },
     "metadata": {},
     "output_type": "display_data"
    },
    {
     "name": "stdout",
     "output_type": "stream",
     "text": [
      "Fold 2/3\n"
     ]
    },
    {
     "data": {
      "application/vnd.jupyter.widget-view+json": {
       "model_id": "e949c7609e2b41be8143e3d6b60a6b8a",
       "version_major": 2,
       "version_minor": 0
      },
      "text/plain": [
       "  0%|          | 0/1 [00:00<?, ?it/s]"
      ]
     },
     "metadata": {},
     "output_type": "display_data"
    },
    {
     "data": {
      "application/vnd.jupyter.widget-view+json": {
       "model_id": "974b21d8cb67428bacf089ed3f186d8b",
       "version_major": 2,
       "version_minor": 0
      },
      "text/plain": [
       "predicting:   0%|          | 0/66900 [00:00<?, ?it/s]"
      ]
     },
     "metadata": {},
     "output_type": "display_data"
    },
    {
     "name": "stdout",
     "output_type": "stream",
     "text": [
      "Fold 3/3\n"
     ]
    },
    {
     "data": {
      "application/vnd.jupyter.widget-view+json": {
       "model_id": "8f0e47d8ddc246859be89417d4df6bad",
       "version_major": 2,
       "version_minor": 0
      },
      "text/plain": [
       "  0%|          | 0/1 [00:00<?, ?it/s]"
      ]
     },
     "metadata": {},
     "output_type": "display_data"
    },
    {
     "data": {
      "application/vnd.jupyter.widget-view+json": {
       "model_id": "a25fac2c212e4e3ca15ade03d6360f80",
       "version_major": 2,
       "version_minor": 0
      },
      "text/plain": [
       "predicting:   0%|          | 0/66900 [00:00<?, ?it/s]"
      ]
     },
     "metadata": {},
     "output_type": "display_data"
    },
    {
     "name": "stdout",
     "output_type": "stream",
     "text": [
      "Results for alpha=2.0: {'ndcg': np.float64(0.07904235655446247), 'recall': np.float64(0.034347962284776205)}\n",
      "Training with alpha=5.0\n",
      "Fold 1/3\n"
     ]
    },
    {
     "data": {
      "application/vnd.jupyter.widget-view+json": {
       "model_id": "5efed6bde3fd45f7a54203444ac1c5d4",
       "version_major": 2,
       "version_minor": 0
      },
      "text/plain": [
       "  0%|          | 0/1 [00:00<?, ?it/s]"
      ]
     },
     "metadata": {},
     "output_type": "display_data"
    },
    {
     "data": {
      "application/vnd.jupyter.widget-view+json": {
       "model_id": "8094562508e24613a728bc2281c0a795",
       "version_major": 2,
       "version_minor": 0
      },
      "text/plain": [
       "predicting:   0%|          | 0/66900 [00:00<?, ?it/s]"
      ]
     },
     "metadata": {},
     "output_type": "display_data"
    },
    {
     "name": "stdout",
     "output_type": "stream",
     "text": [
      "Fold 2/3\n"
     ]
    },
    {
     "data": {
      "application/vnd.jupyter.widget-view+json": {
       "model_id": "7a9bf641c52e47d8a6fab196a724a5c4",
       "version_major": 2,
       "version_minor": 0
      },
      "text/plain": [
       "  0%|          | 0/1 [00:00<?, ?it/s]"
      ]
     },
     "metadata": {},
     "output_type": "display_data"
    },
    {
     "data": {
      "application/vnd.jupyter.widget-view+json": {
       "model_id": "c61d685d23554b7598f1fddaf85da5e7",
       "version_major": 2,
       "version_minor": 0
      },
      "text/plain": [
       "predicting:   0%|          | 0/66900 [00:00<?, ?it/s]"
      ]
     },
     "metadata": {},
     "output_type": "display_data"
    },
    {
     "name": "stdout",
     "output_type": "stream",
     "text": [
      "Fold 3/3\n"
     ]
    },
    {
     "data": {
      "application/vnd.jupyter.widget-view+json": {
       "model_id": "2f59fce9cbef4bf6b3109b3587f43305",
       "version_major": 2,
       "version_minor": 0
      },
      "text/plain": [
       "  0%|          | 0/1 [00:00<?, ?it/s]"
      ]
     },
     "metadata": {},
     "output_type": "display_data"
    },
    {
     "data": {
      "application/vnd.jupyter.widget-view+json": {
       "model_id": "2de4b2e82b07476c91335d2c05acd53d",
       "version_major": 2,
       "version_minor": 0
      },
      "text/plain": [
       "predicting:   0%|          | 0/66900 [00:00<?, ?it/s]"
      ]
     },
     "metadata": {},
     "output_type": "display_data"
    },
    {
     "name": "stdout",
     "output_type": "stream",
     "text": [
      "Results for alpha=5.0: {'ndcg': np.float64(0.07160702483082483), 'recall': np.float64(0.031182766647956564)}\n",
      "Training with alpha=10.0\n",
      "Fold 1/3\n"
     ]
    },
    {
     "data": {
      "application/vnd.jupyter.widget-view+json": {
       "model_id": "c8ec8d7e99ef4e6b9081dbc90eb31bed",
       "version_major": 2,
       "version_minor": 0
      },
      "text/plain": [
       "  0%|          | 0/1 [00:00<?, ?it/s]"
      ]
     },
     "metadata": {},
     "output_type": "display_data"
    },
    {
     "data": {
      "application/vnd.jupyter.widget-view+json": {
       "model_id": "b3fd9184b0fa4d4d86b277027902061b",
       "version_major": 2,
       "version_minor": 0
      },
      "text/plain": [
       "predicting:   0%|          | 0/66900 [00:00<?, ?it/s]"
      ]
     },
     "metadata": {},
     "output_type": "display_data"
    },
    {
     "name": "stdout",
     "output_type": "stream",
     "text": [
      "Fold 2/3\n"
     ]
    },
    {
     "data": {
      "application/vnd.jupyter.widget-view+json": {
       "model_id": "74d62dd840e247a8a92ac469f1d6ed86",
       "version_major": 2,
       "version_minor": 0
      },
      "text/plain": [
       "  0%|          | 0/1 [00:00<?, ?it/s]"
      ]
     },
     "metadata": {},
     "output_type": "display_data"
    },
    {
     "data": {
      "application/vnd.jupyter.widget-view+json": {
       "model_id": "c1e652d58ee84843b0e281c3a96d98e4",
       "version_major": 2,
       "version_minor": 0
      },
      "text/plain": [
       "predicting:   0%|          | 0/66900 [00:00<?, ?it/s]"
      ]
     },
     "metadata": {},
     "output_type": "display_data"
    },
    {
     "name": "stdout",
     "output_type": "stream",
     "text": [
      "Fold 3/3\n"
     ]
    },
    {
     "data": {
      "application/vnd.jupyter.widget-view+json": {
       "model_id": "aba5cb2cc2e34ac192f8593ca2a5c333",
       "version_major": 2,
       "version_minor": 0
      },
      "text/plain": [
       "  0%|          | 0/1 [00:00<?, ?it/s]"
      ]
     },
     "metadata": {},
     "output_type": "display_data"
    },
    {
     "data": {
      "application/vnd.jupyter.widget-view+json": {
       "model_id": "41e0c8b424894e19b16d6619820d0ab4",
       "version_major": 2,
       "version_minor": 0
      },
      "text/plain": [
       "predicting:   0%|          | 0/66900 [00:00<?, ?it/s]"
      ]
     },
     "metadata": {},
     "output_type": "display_data"
    },
    {
     "name": "stdout",
     "output_type": "stream",
     "text": [
      "Results for alpha=10.0: {'ndcg': np.float64(0.0675824252489833), 'recall': np.float64(0.029870561040666866)}\n",
      "Training with alpha=40.0\n",
      "Fold 1/3\n"
     ]
    },
    {
     "data": {
      "application/vnd.jupyter.widget-view+json": {
       "model_id": "a835796afa4f42149e5c0402080d9e17",
       "version_major": 2,
       "version_minor": 0
      },
      "text/plain": [
       "  0%|          | 0/1 [00:00<?, ?it/s]"
      ]
     },
     "metadata": {},
     "output_type": "display_data"
    },
    {
     "data": {
      "application/vnd.jupyter.widget-view+json": {
       "model_id": "d46bb4a0e4734f8286c955eaa5f0b7ff",
       "version_major": 2,
       "version_minor": 0
      },
      "text/plain": [
       "predicting:   0%|          | 0/66900 [00:00<?, ?it/s]"
      ]
     },
     "metadata": {},
     "output_type": "display_data"
    },
    {
     "name": "stdout",
     "output_type": "stream",
     "text": [
      "Fold 2/3\n"
     ]
    },
    {
     "data": {
      "application/vnd.jupyter.widget-view+json": {
       "model_id": "d4d3e90b709a4e0ca9fab7f11ea81af0",
       "version_major": 2,
       "version_minor": 0
      },
      "text/plain": [
       "  0%|          | 0/1 [00:00<?, ?it/s]"
      ]
     },
     "metadata": {},
     "output_type": "display_data"
    },
    {
     "data": {
      "application/vnd.jupyter.widget-view+json": {
       "model_id": "7a4930dad23f48ea8db455c86b8f7d03",
       "version_major": 2,
       "version_minor": 0
      },
      "text/plain": [
       "predicting:   0%|          | 0/66900 [00:00<?, ?it/s]"
      ]
     },
     "metadata": {},
     "output_type": "display_data"
    },
    {
     "name": "stdout",
     "output_type": "stream",
     "text": [
      "Fold 3/3\n"
     ]
    },
    {
     "data": {
      "application/vnd.jupyter.widget-view+json": {
       "model_id": "1d2d4a7dd4da4dcea7ea1118c941872e",
       "version_major": 2,
       "version_minor": 0
      },
      "text/plain": [
       "  0%|          | 0/1 [00:00<?, ?it/s]"
      ]
     },
     "metadata": {},
     "output_type": "display_data"
    },
    {
     "data": {
      "application/vnd.jupyter.widget-view+json": {
       "model_id": "1d791f9693304d96be86bbbc95a0a9fe",
       "version_major": 2,
       "version_minor": 0
      },
      "text/plain": [
       "predicting:   0%|          | 0/66900 [00:00<?, ?it/s]"
      ]
     },
     "metadata": {},
     "output_type": "display_data"
    },
    {
     "name": "stdout",
     "output_type": "stream",
     "text": [
      "Results for alpha=40.0: {'ndcg': np.float64(0.0756210425685591), 'recall': np.float64(0.03475376311722493)}\n",
      "Лучший alpha: 1.4 с метриками: {'ndcg': np.float64(0.0810773070648304), 'recall': np.float64(0.03598779628750044)}\n"
     ]
    }
   ],
   "source": [
    "alphas_to_test = [0.1, 0.2, 0.5, 0.8, 1.0, 1.2, 1.4, 1.5, 1.8, 2.0, 5.0, 10.0, 40.0]\n",
    "\n",
    "cross_validator = CrossValidator(ImplicitALS, alphas=alphas_to_test, topn=10, k_folds=3)\n",
    "results = cross_validator.run_cv(train_part, test_part, items_df)\n",
    "\n",
    "# Отобразим результаты\n",
    "best_alpha = max(results, key=lambda alpha: results[alpha][\"ndcg\"])\n",
    "print(f\"Лучший alpha: {best_alpha} с метриками: {results[best_alpha]}\")\n"
   ]
  },
  {
   "cell_type": "markdown",
   "metadata": {},
   "source": [
    "### Небольшое улучшение есть для $\\alpha$ = 1.4\n",
    "\n",
    "P.S если в модели, которая была в примере(в задании), выставить $\\alpha$ = 1.4, то там метрики выдадут 0.075 и 0.034, а это значит, что улучшения все же есть\n",
    " \n",
    "P.S.S. а если выставить в примере $\\alpha$ = 76.0, то {'ndcg': np.float64(0.11455671564393351), 'recall': np.float64(0.055995794709131394)}\n",
    "\n",
    "Так что возникает мысль, что стоит добавить гиперпараметр $\\beta$, который будет отвечать за встроенный в библиотеку ALS, чтобы подобрать оптимальное соотношение, которое перегонит значения по метрике из P.S.S. (ведь исходим из предположения, что учет часов и жанров улучшает метрику, хотя здесь стоит быть осторожными, ведь в данном случае важны не голые цифры, а то, насколько подходящие и разнообразные фильмы рекомендуются по итогу). Не помешает и изменить отдельными гиперпараметрами веса жанров и годов."
   ]
  },
  {
   "cell_type": "code",
   "execution_count": null,
   "metadata": {},
   "outputs": [],
   "source": [
    "# to be continued"
   ]
  },
  {
   "cell_type": "markdown",
   "metadata": {},
   "source": [
    "## Сделаем небольшой EDA наших предсказаний от нового ALS. (актуален при $\\alpha$= 1.0, раздел ниже еще не был обновлен после добавления кросс-валидации)"
   ]
  },
  {
   "cell_type": "code",
   "execution_count": 162,
   "metadata": {},
   "outputs": [
    {
     "data": {
      "application/vnd.jupyter.widget-view+json": {
       "model_id": "d1f280362f6348e19a8f98401ae7c31c",
       "version_major": 2,
       "version_minor": 0
      },
      "text/plain": [
       "  0%|          | 0/1 [00:00<?, ?it/s]"
      ]
     },
     "metadata": {},
     "output_type": "display_data"
    },
    {
     "data": {
      "application/vnd.jupyter.widget-view+json": {
       "model_id": "88d361112ee64128b4bbaf19fefcd5df",
       "version_major": 2,
       "version_minor": 0
      },
      "text/plain": [
       "predicting:   0%|          | 0/66900 [00:00<?, ?it/s]"
      ]
     },
     "metadata": {},
     "output_type": "display_data"
    },
    {
     "data": {
      "text/plain": [
       "{'ndcg': np.float64(0.07964188700384324),\n",
       " 'recall': np.float64(0.03543281484609385)}"
      ]
     },
     "execution_count": 162,
     "metadata": {},
     "output_type": "execute_result"
    }
   ],
   "source": [
    "als_rec = ImplicitALS(iterations=1, factors=2, alpha=1.0, random_state=42)\n",
    "als_rec.fit(df = train_part, item_df= items_df)\n",
    "test_part[\"implicit_als_recs\"] = als_rec.predict(test_part)\n",
    "evaluate_recommender(test_part, model_preds_col=\"implicit_als_recs\")\n"
   ]
  },
  {
   "cell_type": "markdown",
   "metadata": {},
   "source": [
    "### Посмотрим, что наш алгоритм чаще всего рекомендует первым делом:"
   ]
  },
  {
   "cell_type": "code",
   "execution_count": 146,
   "metadata": {},
   "outputs": [
    {
     "data": {
      "image/png": "[encoded data removed]",
      "text/plain": [
       "<Figure size 640x480 with 1 Axes>"
      ]
     },
     "metadata": {},
     "output_type": "display_data"
    }
   ],
   "source": [
    "first_items = pd.DataFrame([x[0] for x in test_part[\"implicit_als_recs\"].values], columns=[\"id\"])\n",
    "first_items = (\n",
    "    first_items.merge(items_df[[\"id\", \"title\"]], on=\"id\").groupby(\"title\").size().sort_values(ascending=False)\n",
    ")\n",
    "first_items /= first_items.sum()\n",
    "first_items.head(10).plot(kind=\"bar\")\n",
    "plt.ylabel(\"Доля от всех рекомендаций\")\n",
    "plt.title(\"Распределение фильмов на первых местах\")\n",
    "plt.show()\n"
   ]
  },
  {
   "cell_type": "markdown",
   "metadata": {},
   "source": [
    "#### \"Аватар: Путь воды\" все еще на первом месте, но можем заметить перестановки на остальных местах."
   ]
  },
  {
   "cell_type": "markdown",
   "metadata": {},
   "source": []
  },
  {
   "cell_type": "markdown",
   "metadata": {},
   "source": [
    "\n",
    "#### Посмотрим на похожие фильмы к фильу \"Аватар: Путь воды\", согласно новому als"
   ]
  },
  {
   "cell_type": "code",
   "execution_count": 163,
   "metadata": {},
   "outputs": [
    {
     "data": {
      "text/html": [
       "<div>\n",
       "<style scoped>\n",
       "    .dataframe tbody tr th:only-of-type {\n",
       "        vertical-align: middle;\n",
       "    }\n",
       "\n",
       "    .dataframe tbody tr th {\n",
       "        vertical-align: top;\n",
       "    }\n",
       "\n",
       "    .dataframe thead th {\n",
       "        text-align: right;\n",
       "    }\n",
       "</style>\n",
       "<table border=\"1\" class=\"dataframe\">\n",
       "  <thead>\n",
       "    <tr style=\"text-align: right;\">\n",
       "      <th></th>\n",
       "      <th>id</th>\n",
       "      <th>title</th>\n",
       "      <th>year</th>\n",
       "      <th>date_publication</th>\n",
       "      <th>description</th>\n",
       "      <th>genres</th>\n",
       "      <th>countries</th>\n",
       "      <th>staff</th>\n",
       "      <th>title_orig</th>\n",
       "      <th>age_rating</th>\n",
       "      <th>keywords</th>\n",
       "    </tr>\n",
       "  </thead>\n",
       "  <tbody>\n",
       "    <tr>\n",
       "      <th>484</th>\n",
       "      <td>484</td>\n",
       "      <td>Аватар: Путь воды</td>\n",
       "      <td>2023-01-01</td>\n",
       "      <td>2023-04-19T00:00:00</td>\n",
       "      <td>Джейк Салли живёт в образе аватара уже много л...</td>\n",
       "      <td>[158, 294, 266, 302]</td>\n",
       "      <td>[102]</td>\n",
       "      <td>[15325, 23343, 18928, 23330, 5187, 30892, 1481...</td>\n",
       "      <td>NaN</td>\n",
       "      <td>NaN</td>\n",
       "      <td>NaN</td>\n",
       "    </tr>\n",
       "  </tbody>\n",
       "</table>\n",
       "</div>"
      ],
      "text/plain": [
       "      id              title        year     date_publication  \\\n",
       "484  484  Аватар: Путь воды  2023-01-01  2023-04-19T00:00:00   \n",
       "\n",
       "                                           description                genres  \\\n",
       "484  Джейк Салли живёт в образе аватара уже много л...  [158, 294, 266, 302]   \n",
       "\n",
       "    countries                                              staff title_orig  \\\n",
       "484     [102]  [15325, 23343, 18928, 23330, 5187, 30892, 1481...        NaN   \n",
       "\n",
       "     age_rating keywords  \n",
       "484         NaN      NaN  "
      ]
     },
     "execution_count": 163,
     "metadata": {},
     "output_type": "execute_result"
    }
   ],
   "source": [
    "items_df[items_df[\"title\"] == 'Аватар: Путь воды']\n"
   ]
  },
  {
   "cell_type": "code",
   "execution_count": 164,
   "metadata": {},
   "outputs": [],
   "source": [
    "def get_similar_films(title, N=10):\n",
    "    item_id = items_df[items_df[\"title\"] == title]['id'].values[0]\n",
    "\n",
    "    similar_encoded_ids = als_rec.model.similar_items(\n",
    "        als_rec.item_encoder.transform([item_id]), N=N, filter_items=als_rec.item_encoder.transform([item_id])\n",
    "    )[0][0]\n",
    "    similar_ids = als_rec.item_encoder.inverse_transform(similar_encoded_ids)   \n",
    "    return items_df[items_df[\"id\"].isin(similar_ids)][\"title\"]"
   ]
  },
  {
   "cell_type": "code",
   "execution_count": 165,
   "metadata": {},
   "outputs": [
    {
     "data": {
      "text/plain": [
       "1023                                  Алые паруса\n",
       "1350                 Гарри Поттер и Орден Феникса\n",
       "1789                           Небеса обетованные\n",
       "2002                                   Суета сует\n",
       "2577                                Король Ричард\n",
       "4112                                      Бладшот\n",
       "5853                          Святым тут не место\n",
       "6492    Мартин Лютер Кинг: Король без королевства\n",
       "6957                              Назад в будущее\n",
       "7043                               Обратная связь\n",
       "Name: title, dtype: object"
      ]
     },
     "execution_count": 165,
     "metadata": {},
     "output_type": "execute_result"
    }
   ],
   "source": [
    "get_similar_films(\"Аватар: Путь воды\")"
   ]
  },
  {
   "cell_type": "markdown",
   "metadata": {},
   "source": [
    "#### Получается, что после добавления распределения по жанрам и годам 31 июня уже нет, но появились новые фильмы, так что есть основания полагать, что схожесть по значениям у метрик не просто ошибка округления, а действительно новый результат."
   ]
  },
  {
   "cell_type": "code",
   "execution_count": null,
   "metadata": {},
   "outputs": [],
   "source": []
  },
  {
   "cell_type": "markdown",
   "metadata": {},
   "source": [
    "### Проверим, как система справляется с учетом жанра и года выпуска, заодно узнаем, есть ли перекос по весам"
   ]
  },
  {
   "cell_type": "code",
   "execution_count": 166,
   "metadata": {},
   "outputs": [
    {
     "data": {
      "image/png": "[encoded data removed]",
      "text/plain": [
       "<Figure size 640x480 with 1 Axes>"
      ]
     },
     "metadata": {},
     "output_type": "display_data"
    }
   ],
   "source": [
    "genre_distribution = test_part.explode(\"implicit_als_recs\").merge(items_df[[\"id\", \"genres\"]], left_on=\"implicit_als_recs\", right_on=\"id\")\n",
    "genre_distribution['genres'].value_counts(normalize=True).head(10).plot(kind=\"bar\")\n",
    "\n",
    "plt.ylabel(\"Доля от всех рекомендаций\")\n",
    "plt.xlabel(\"Кодовый номер жанра\")\n",
    "plt.title(\"Распределение рекомендаций по жанрам\")\n",
    "plt.show()\n"
   ]
  },
  {
   "cell_type": "markdown",
   "metadata": {},
   "source": [
    "### Сильного перекоса в рекомендации жанров нет, поэтому можно считать, что в этом плане сильной предвзятости у системы нет"
   ]
  },
  {
   "cell_type": "code",
   "execution_count": null,
   "metadata": {},
   "outputs": [],
   "source": []
  },
  {
   "cell_type": "markdown",
   "metadata": {},
   "source": [
    "### Теперь проверим наличие предвзятости по новизне фильмов. Она должна быть, поскольку изначально предпологалось отдавать предпочтение новинкам"
   ]
  },
  {
   "cell_type": "code",
   "execution_count": 167,
   "metadata": {},
   "outputs": [
    {
     "data": {
      "image/png": "[encoded data removed]",
      "text/plain": [
       "<Figure size 640x480 with 1 Axes>"
      ]
     },
     "metadata": {},
     "output_type": "display_data"
    }
   ],
   "source": [
    "items_df['year'] = pd.to_datetime(items_df['year']).dt.year\n",
    "\n",
    "year_distribution = test_part.explode(\"implicit_als_recs\").merge(items_df[[\"id\", \"year\"]], left_on=\"implicit_als_recs\", right_on=\"id\")\n",
    "year_distribution['year'].value_counts().sort_index().plot(kind=\"bar\")\n",
    "\n",
    "plt.ylabel(\"Количество рекомендаций\")\n",
    "plt.xlabel(\"Год выпуска\")\n",
    "plt.title(\"Распределение рекомендаций по годам выпуска\")\n",
    "plt.show()\n"
   ]
  },
  {
   "cell_type": "markdown",
   "metadata": {},
   "source": [
    "### Результат соответствует ожиданиям, но есть основания полагать, что перекос слишком сильный и стоило бы его сгладить"
   ]
  },
  {
   "cell_type": "code",
   "execution_count": null,
   "metadata": {},
   "outputs": [],
   "source": []
  },
  {
   "cell_type": "markdown",
   "metadata": {},
   "source": [
    "### Поскольку для рекомендательной системы важно не превращаться в пузырь, то имеет смысл провести анализ новизны рекомендаций"
   ]
  },
  {
   "cell_type": "code",
   "execution_count": 168,
   "metadata": {},
   "outputs": [
    {
     "data": {
      "image/png": "[encoded data removed]",
      "text/plain": [
       "<Figure size 640x480 with 1 Axes>"
      ]
     },
     "metadata": {},
     "output_type": "display_data"
    }
   ],
   "source": [
    "novelty_score = test_part.apply(lambda row: len(set(row['implicit_als_recs']) - set(row['movie_id'])) / len(row['implicit_als_recs']), axis=1)\n",
    "\n",
    "plt.hist(novelty_score, bins=15)\n",
    "plt.xlabel(\"Доля новых фильмов в рекомендациях\")\n",
    "plt.ylabel(\"Количество пользователей\")\n",
    "plt.title(\"Распределение новизны рекомендаций\")\n",
    "plt.show()\n"
   ]
  },
  {
   "cell_type": "markdown",
   "metadata": {},
   "source": [
    "### Видим, что система с этим отлично справляется, но вполне возможно, что это из-за выборки, которая охватывает относительно малый промежуток времени, так что гарантий не замкнуться на дистанции нет."
   ]
  },
  {
   "cell_type": "markdown",
   "metadata": {},
   "source": [
    "# !!!! но тут есть подвох - а все дело в том, что зрители из тренировочной выборки могли видеть всего по 1-2 фильму... в связи с этим встает вопрос о том, что все же нужно было предобработать данные, иначе наша система работает на основе пары фильмов, то есть ни о какой реальной точности речи идти не может"
   ]
  }
 ],
 "metadata": {
  "kernelspec": {
   "display_name": ".venv",
   "language": "python",
   "name": "python3"
  },
  "language_info": {
   "codemirror_mode": {
    "name": "ipython",
    "version": 3
   },
   "file_extension": ".py",
   "mimetype": "text/x-python",
   "name": "python",
   "nbconvert_exporter": "python",
   "pygments_lexer": "ipython3",
   "version": "3.10.12"
  }
 },
 "nbformat": 4,
 "nbformat_minor": 2
}
