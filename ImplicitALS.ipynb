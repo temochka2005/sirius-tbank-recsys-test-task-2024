{
 "cells": [
  {
   "cell_type": "markdown",
   "metadata": {},
   "source": [
    "# Библиотеки"
   ]
  },
  {
   "cell_type": "code",
   "execution_count": 13,
   "metadata": {},
   "outputs": [],
   "source": [
    "from abc import ABC, abstractmethod\n",
    "from typing import Dict, List\n",
    "\n",
    "import matplotlib.pyplot as plt\n",
    "import numpy as np\n",
    "import pandas as pd\n",
    "import pickle\n",
    "from implicit.als import AlternatingLeastSquares\n",
    "from implicit.evaluation import precision_at_k, mean_average_precision_at_k\n",
    "from scipy.sparse import csr_matrix\n",
    "from sklearn.preprocessing import LabelEncoder\n",
    "from tqdm.auto import tqdm"
   ]
  },
  {
   "cell_type": "markdown",
   "metadata": {},
   "source": [
    "# Данные"
   ]
  },
  {
   "cell_type": "code",
   "execution_count": 14,
   "metadata": {},
   "outputs": [],
   "source": [
    "data_folder = \"./\"\n",
    "\n",
    "users_df = pd.read_csv(data_folder + \"users_df.csv\")\n",
    "items_df = pd.read_csv(data_folder + \"items_df.csv\")\n",
    "\n",
    "countries = pd.read_csv(data_folder + \"countries.csv\")\n",
    "genres = pd.read_csv(data_folder + \"genres.csv\")\n",
    "staff = pd.read_csv(data_folder + \"staff.csv\")\n",
    "\n",
    "train_part = pd.read_csv(data_folder + \"train_data.csv\", parse_dates=[\"datetime\"])\n",
    "test_part = pd.read_csv(data_folder + \"test_data.csv\")\n",
    "test_part = test_part.groupby(\"user_id\").agg({\"movie_id\": list}).reset_index()\n"
   ]
  },
  {
   "cell_type": "markdown",
   "metadata": {},
   "source": [
    "# Метрики"
   ]
  },
  {
   "cell_type": "code",
   "execution_count": 15,
   "metadata": {},
   "outputs": [],
   "source": [
    "# ACHTUNG! DO NOT TOUCH \n",
    "\n",
    "def ndcg_metric(gt_items: np.ndarray, predicted: np.ndarray) -> float:\n",
    "    at = len(predicted)\n",
    "    relevance = np.array([1 if x in predicted else 0 for x in gt_items])\n",
    "    # DCG uses the relevance of the recommended items\n",
    "    rank_dcg = dcg(relevance)\n",
    "    if rank_dcg == 0.0:\n",
    "        return 0.0\n",
    "\n",
    "    # IDCG has all relevances to 1 (or the values provided), up to the number of items in the test set that can fit in the list length\n",
    "    ideal_dcg = dcg(np.sort(relevance)[::-1][:at])\n",
    "\n",
    "    if ideal_dcg == 0.0:\n",
    "        return 0.0\n",
    "\n",
    "    ndcg_ = rank_dcg / ideal_dcg\n",
    "\n",
    "    return ndcg_\n",
    "\n",
    "\n",
    "def dcg(scores: np.ndarray) -> float:\n",
    "    return np.sum(\n",
    "        np.divide(np.power(2, scores) - 1, np.log2(np.arange(scores.shape[0], dtype=np.float64) + 2)), dtype=np.float64\n",
    "    )\n",
    "\n",
    "\n",
    "def recall_metric(gt_items: np.ndarray, predicted: np.ndarray) -> float:\n",
    "    n_gt = len(gt_items)\n",
    "    intersection = len(set(gt_items).intersection(set(predicted)))\n",
    "    return intersection / n_gt\n",
    "\n",
    "\n",
    "def evaluate_recommender(df: pd.DataFrame, model_preds_col: str, gt_col: str = \"movie_id\") -> Dict[str, float]:\n",
    "    metric_values = []\n",
    "\n",
    "    for _, row in df.iterrows():\n",
    "        metric_values.append(\n",
    "            (ndcg_metric(row[gt_col], row[model_preds_col]), recall_metric(row[gt_col], row[model_preds_col]))\n",
    "        )\n",
    "\n",
    "    return {\"ndcg\": np.mean([x[0] for x in metric_values]), \"recall\": np.mean([x[1] for x in metric_values])}"
   ]
  },
  {
   "cell_type": "markdown",
   "metadata": {},
   "source": [
    "#### Класс, от которого стоит наследовать все ваши модели, чтобы эксперименты было проще проводить"
   ]
  },
  {
   "cell_type": "code",
   "execution_count": 16,
   "metadata": {},
   "outputs": [],
   "source": [
    "class BaseRecommender(ABC):\n",
    "    def __init__(self):\n",
    "        self.trained = False\n",
    "\n",
    "    @abstractmethod\n",
    "    def fit(self, df: pd.DataFrame) -> None:\n",
    "        # реализация может быть любой, никаких ограничений\n",
    "    \n",
    "        # не забудьте про\n",
    "        self.trained = True\n",
    "\n",
    "    @abstractmethod\n",
    "    def predict(self, df: pd.DataFrame, topn: int = 10) -> List[np.ndarray]:\n",
    "        # реализация может быть любой, НО\n",
    "        # должен возвращать список массивов из movie_id, которые есть в `item_df`, чтобы корректно работал подсчет метрик\n",
    "        pass"
   ]
  },
  {
   "cell_type": "markdown",
   "metadata": {},
   "source": [
    "Раз уж у нас данные из неявных взаимодействий, то появилась мысль затюнить ALS из примера, чтобы работать с confidence matrix и параметром, отвечающим за вес (не)нужных нам взаимодействий.\n",
    "\n",
    "$C_{ij} = 1 + \\alpha \\times R_{ij},$ \\\n",
    "где $\\alpha - $ гиперпараметр, который отвечает за важность каждого взаимодействия \\\n",
    "$ R_{ij} - $ изначальная матрица взаимодействия\n",
    " "
   ]
  },
  {
   "cell_type": "code",
   "execution_count": 17,
   "metadata": {},
   "outputs": [],
   "source": [
    "class ImplicitALS(BaseRecommender):\n",
    "    def __init__(self, factors: int = 100, regularization: float = 0.01, alpha: float = 40.0, iterations: int = 15, **kwargs) -> None:\n",
    "        super().__init__()\n",
    "        self.model = AlternatingLeastSquares(\n",
    "            factors=factors, regularization=regularization, iterations=iterations, **kwargs\n",
    "        )\n",
    "        self.alpha = alpha  # Параметр alpha для взвешивания confidence matrix, по умолчанию ставим 40.0\n",
    "        self.trained = False\n",
    "\n",
    "\n",
    "    def fit(self, df: pd.DataFrame, item_df: pd.DataFrame, item_col: str = \"movie_id\", user_col: str = \"user_id\", value_col: str = None) -> None:\n",
    "        \"\"\"\n",
    "        Подготовка данных и обучение модели на неявных данных.\n",
    "        df - взаимодействия пользователей с фильмами.\n",
    "        item_df - информация о фильмах (жанры и год производства).\n",
    "        value_col: значение взаимодействия, если None, то использовать бинарное взаимодействие.\n",
    "        \"\"\"\n",
    "\n",
    "        self.user_encoder = LabelEncoder()\n",
    "        self.item_encoder = LabelEncoder()\n",
    "\n",
    "        # Преобразуем пользователей и фильмы в числовые id\n",
    "        user_ids = self.user_encoder.fit_transform(df[user_col])\n",
    "        item_ids = self.item_encoder.fit_transform(df[item_col])\n",
    "\n",
    "        if value_col is None:\n",
    "            counts = np.ones(len(df))\n",
    "        else:\n",
    "            counts = df[value_col].values\n",
    "        \n",
    "        # Создаем interaction matrix (пользователь, фильм) с количеством взаимодействий\n",
    "        matrix_shape = (len(self.user_encoder.classes_), len(self.item_encoder.classes_))\n",
    "        interaction_matrix = csr_matrix((counts, (user_ids, item_ids)), shape=matrix_shape)\n",
    "\n",
    "        # учитываем вес\n",
    "        interaction_matrix.multiply(self.alpha)\n",
    "\n",
    "        # считаем, что взаимодействия, где нулевые значения(нет активности), уже учтены как значения, к которым вес не добавляем\n",
    "        # (к разреженной матрице единицу пробемно добавить, потому что разреженность нарушается)\n",
    "        interaction_matrix.data += 1 # Добавляем 1 только к ненулевым элементам\n",
    "\n",
    "          #######\n",
    "#         # по поводу комментария про добавление единицы\n",
    "#         # пробовал \n",
    "#         # identity_matrix = csr_matrix(np.ones(interaction_matrix.shape))- создаем единичную разреженную матрицу размеров interaction_matrix\n",
    "#         # self.confidence_matrix = (identity_matrix + interaction_matrix.multiply(self.alpha)).astype(\"double\")\n",
    "#         # но при запуске ячейки с подсчетом метрик мгновенно падало ядро, поэтому предполагаем по итогу без единицы на нулевых случаях \n",
    "          #######\n",
    "\n",
    "        self.confidence_matrix = interaction_matrix\n",
    "        # Обучение модели на confidence matrix\n",
    "        self.model.fit(self.confidence_matrix)\n",
    "        self.trained = True\n",
    "\n",
    "    def predict(self, df: pd.DataFrame, topn: int = 10) -> List[np.ndarray]:\n",
    "        \"\"\"\n",
    "        Предсказание фильмов для пользователя по функции recommend модели.\n",
    "        Возвращает список topn фильмов.\n",
    "        \"\"\"\n",
    "        assert self.trained\n",
    "\n",
    "        all_recs = []\n",
    "\n",
    "        # Преобразуем пользователей\n",
    "        users = self.user_encoder.transform(df[\"user_id\"])\n",
    "\n",
    "        # Генерируем рекомендации для каждого пользователя\n",
    "        for user in tqdm(users, desc=\"predicting\", leave=False):\n",
    "            # Для данного пользователя делаем прогноз на topn фильмов\n",
    "            recommended_items, _ = self.model.recommend(user, self.confidence_matrix[user], N=topn)\n",
    "            # Декодируем id фильмов обратно\n",
    "            all_recs.append(self.item_encoder.inverse_transform(recommended_items))\n",
    "\n",
    "        return all_recs\n",
    "\n",
    "        \n"
   ]
  },
  {
   "cell_type": "markdown",
   "metadata": {},
   "source": [
    "Считаем метрики\n"
   ]
  },
  {
   "cell_type": "markdown",
   "metadata": {},
   "source": [
    "$\\alpha = 1.0 $ тест с гиперпараметрами из примера\n",
    "\n"
   ]
  },
  {
   "cell_type": "code",
   "execution_count": 18,
   "metadata": {},
   "outputs": [
    {
     "data": {
      "application/vnd.jupyter.widget-view+json": {
       "model_id": "9b800f3f40ee4801955d04205ec5553f",
       "version_major": 2,
       "version_minor": 0
      },
      "text/plain": [
       "  0%|          | 0/1 [00:00<?, ?it/s]"
      ]
     },
     "metadata": {},
     "output_type": "display_data"
    },
    {
     "data": {
      "application/vnd.jupyter.widget-view+json": {
       "model_id": "7a10ec68999e4fd09594908836d5e573",
       "version_major": 2,
       "version_minor": 0
      },
      "text/plain": [
       "predicting:   0%|          | 0/66900 [00:00<?, ?it/s]"
      ]
     },
     "metadata": {},
     "output_type": "display_data"
    }
   ],
   "source": [
    "als_rec = ImplicitALS(iterations=1, factors=2, alpha=1.0, random_state=42)\n",
    "als_rec.fit(df = train_part, item_df= items_df)\n",
    "test_part[\"implicit_als_recs\"] = als_rec.predict(test_part)"
   ]
  },
  {
   "cell_type": "code",
   "execution_count": 19,
   "metadata": {},
   "outputs": [
    {
     "data": {
      "text/plain": [
       "{'ndcg': np.float64(0.0771389678984157),\n",
       " 'recall': np.float64(0.03533410926479179)}"
      ]
     },
     "execution_count": 19,
     "metadata": {},
     "output_type": "execute_result"
    }
   ],
   "source": [
    "evaluate_recommender(test_part, model_preds_col=\"implicit_als_recs\")\n"
   ]
  },
  {
   "cell_type": "markdown",
   "metadata": {},
   "source": [
    "Качество все еще не стало лучше, чем у популярных фильмов, но модель показала результат чуточку выше, чем исходная в примере. Так что возникает мысль выбора оптимального гиперпараметра $\\alpha$ с надеждой превзойти. Попробуем написать кросс-валидацию и надеяться на чудо, что повезет."
   ]
  },
  {
   "cell_type": "code",
   "execution_count": 20,
   "metadata": {},
   "outputs": [],
   "source": [
    "## to be continued ...."
   ]
  },
  {
   "cell_type": "markdown",
   "metadata": {},
   "source": [
    "## Сделаем небольшой EDA наших предсказаний от нового ALS."
   ]
  },
  {
   "cell_type": "markdown",
   "metadata": {},
   "source": [
    "### Посмотрим, что наш алгоритм чаще всего рекомендует первым делом:"
   ]
  },
  {
   "cell_type": "code",
   "execution_count": 21,
   "metadata": {},
   "outputs": [
    {
     "data": {
      "image/png": "[encoded data removed]",
      "text/plain": [
       "<Figure size 640x480 with 1 Axes>"
      ]
     },
     "metadata": {},
     "output_type": "display_data"
    }
   ],
   "source": [
    "first_items = pd.DataFrame([x[0] for x in test_part[\"implicit_als_recs\"].values], columns=[\"id\"])\n",
    "first_items = (\n",
    "    first_items.merge(items_df[[\"id\", \"title\"]], on=\"id\").groupby(\"title\").size().sort_values(ascending=False)\n",
    ")\n",
    "first_items /= first_items.sum()\n",
    "first_items.head(10).plot(kind=\"bar\")\n",
    "plt.ylabel(\"Доля от всех рекомендаций\")\n",
    "plt.title(\"Распределение фильмов на первых местах\")\n",
    "plt.show()\n"
   ]
  },
  {
   "cell_type": "markdown",
   "metadata": {},
   "source": [
    "#### Посмотрим на похожие фильмы к фильу \"Аватар: Путь воды\", согласно новому als"
   ]
  },
  {
   "cell_type": "code",
   "execution_count": 22,
   "metadata": {},
   "outputs": [
    {
     "data": {
      "text/html": [
       "<div>\n",
       "<style scoped>\n",
       "    .dataframe tbody tr th:only-of-type {\n",
       "        vertical-align: middle;\n",
       "    }\n",
       "\n",
       "    .dataframe tbody tr th {\n",
       "        vertical-align: top;\n",
       "    }\n",
       "\n",
       "    .dataframe thead th {\n",
       "        text-align: right;\n",
       "    }\n",
       "</style>\n",
       "<table border=\"1\" class=\"dataframe\">\n",
       "  <thead>\n",
       "    <tr style=\"text-align: right;\">\n",
       "      <th></th>\n",
       "      <th>id</th>\n",
       "      <th>title</th>\n",
       "      <th>year</th>\n",
       "      <th>date_publication</th>\n",
       "      <th>description</th>\n",
       "      <th>genres</th>\n",
       "      <th>countries</th>\n",
       "      <th>staff</th>\n",
       "      <th>title_orig</th>\n",
       "      <th>age_rating</th>\n",
       "      <th>keywords</th>\n",
       "    </tr>\n",
       "  </thead>\n",
       "  <tbody>\n",
       "    <tr>\n",
       "      <th>484</th>\n",
       "      <td>484</td>\n",
       "      <td>Аватар: Путь воды</td>\n",
       "      <td>2023-01-01</td>\n",
       "      <td>2023-04-19T00:00:00</td>\n",
       "      <td>Джейк Салли живёт в образе аватара уже много л...</td>\n",
       "      <td>[158, 294, 266, 302]</td>\n",
       "      <td>[102]</td>\n",
       "      <td>[15325, 23343, 18928, 23330, 5187, 30892, 1481...</td>\n",
       "      <td>NaN</td>\n",
       "      <td>NaN</td>\n",
       "      <td>NaN</td>\n",
       "    </tr>\n",
       "  </tbody>\n",
       "</table>\n",
       "</div>"
      ],
      "text/plain": [
       "      id              title        year     date_publication  \\\n",
       "484  484  Аватар: Путь воды  2023-01-01  2023-04-19T00:00:00   \n",
       "\n",
       "                                           description                genres  \\\n",
       "484  Джейк Салли живёт в образе аватара уже много л...  [158, 294, 266, 302]   \n",
       "\n",
       "    countries                                              staff title_orig  \\\n",
       "484     [102]  [15325, 23343, 18928, 23330, 5187, 30892, 1481...        NaN   \n",
       "\n",
       "     age_rating keywords  \n",
       "484         NaN      NaN  "
      ]
     },
     "execution_count": 22,
     "metadata": {},
     "output_type": "execute_result"
    }
   ],
   "source": [
    "items_df[items_df[\"title\"] == 'Аватар: Путь воды']\n"
   ]
  },
  {
   "cell_type": "code",
   "execution_count": 23,
   "metadata": {},
   "outputs": [],
   "source": [
    "def get_similar_films(title, N=10):\n",
    "    item_id = items_df[items_df[\"title\"] == title]['id'].values[0]\n",
    "\n",
    "    similar_encoded_ids = als_rec.model.similar_items(\n",
    "        als_rec.item_encoder.transform([item_id]), N=N, filter_items=als_rec.item_encoder.transform([item_id])\n",
    "    )[0][0]\n",
    "    similar_ids = als_rec.item_encoder.inverse_transform(similar_encoded_ids)\n",
    "    return items_df[items_df[\"id\"].isin(similar_ids)][\"title\"]"
   ]
  },
  {
   "cell_type": "code",
   "execution_count": 24,
   "metadata": {},
   "outputs": [
    {
     "data": {
      "text/plain": [
       "90      Куда ты пропала, Бернадетт?\n",
       "503                Война под землей\n",
       "826                        В клетке\n",
       "942               Пелоси в политике\n",
       "1667                        31 июня\n",
       "2743         Артур Миллер: Писатель\n",
       "2840               Табачный капитан\n",
       "3724          Линкольн для адвоката\n",
       "4003                Сердце из стали\n",
       "4112                        Бладшот\n",
       "Name: title, dtype: object"
      ]
     },
     "execution_count": 24,
     "metadata": {},
     "output_type": "execute_result"
    }
   ],
   "source": [
    "get_similar_films(\"Аватар: Путь воды\")"
   ]
  },
  {
   "cell_type": "markdown",
   "metadata": {},
   "source": [
    "#### Получается, что 31 июня все еще здесь, но появились новые фильмы, так что есть основания полагать, что схожесть по значениям у метрик не просто ошибка округления, а действительно новый результат."
   ]
  }
 ],
 "metadata": {
  "kernelspec": {
   "display_name": ".venv",
   "language": "python",
   "name": "python3"
  },
  "language_info": {
   "codemirror_mode": {
    "name": "ipython",
    "version": 3
   },
   "file_extension": ".py",
   "mimetype": "text/x-python",
   "name": "python",
   "nbconvert_exporter": "python",
   "pygments_lexer": "ipython3",
   "version": "3.10.12"
  }
 },
 "nbformat": 4,
 "nbformat_minor": 2
}
